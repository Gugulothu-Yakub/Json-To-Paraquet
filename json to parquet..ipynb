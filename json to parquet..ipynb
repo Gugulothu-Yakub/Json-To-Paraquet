{
 "cells": [
  {
   "cell_type": "code",
   "execution_count": 19,
   "id": "5e84ba55",
   "metadata": {},
   "outputs": [
    {
     "name": "stdout",
     "output_type": "stream",
     "text": [
      "  Identity  Age\n",
      "0      Sam   19\n",
      "1      Tom   14\n",
      "2      Mac   11\n"
     ]
    }
   ],
   "source": [
    "import pandas as pd\n",
    "record = '''\n",
    "          {\n",
    "              \"0\":{\n",
    "                  \"Identity\": \"Sam\",\n",
    "                  \"Age\": \"19\"\n",
    "              },\n",
    "              \"1\":{\n",
    "                  \"Identity\": \"Tom\",\n",
    "                  \"Age\": \"14\"\n",
    "              },\n",
    "              \"2\":{\n",
    "                  \"Identity\": \"Mac\",\n",
    "                  \"Age\":\"11\"\n",
    "              }\n",
    "          }\n",
    "    '''\n",
    "\n",
    "df = pd.read_json(record, orient ='index')\n",
    "print(df)"
   ]
  },
  {
   "cell_type": "code",
   "execution_count": 26,
   "id": "2b0904ff",
   "metadata": {},
   "outputs": [],
   "source": [
    "import pandas as pd\n",
    "df = pd.read_json('sample.json')"
   ]
  },
  {
   "cell_type": "code",
   "execution_count": 25,
   "id": "73c0465d",
   "metadata": {
    "scrolled": true
   },
   "outputs": [
    {
     "name": "stdout",
     "output_type": "stream",
     "text": [
      "                                                                                              people\n",
      "0   {'firstName': 'Joe', 'lastName': 'Jackson', 'gender': 'male', 'age': 28, 'number': '7349282382'}\n",
      "1   {'firstName': 'James', 'lastName': 'Smith', 'gender': 'male', 'age': 32, 'number': '5678568567'}\n",
      "2  {'firstName': 'Emily', 'lastName': 'Jones', 'gender': 'female', 'age': 24, 'number': '456754675'}\n"
     ]
    }
   ],
   "source": [
    "import pandas as pd\n",
    "\n",
    "df = pd.read_json('sample.Json')\n",
    "\n",
    "print(df.to_string())"
   ]
  },
  {
   "cell_type": "code",
   "execution_count": 21,
   "id": "a9efc832",
   "metadata": {},
   "outputs": [],
   "source": [
    "import json\n",
    "import pandas as pd"
   ]
  },
  {
   "cell_type": "code",
   "execution_count": 35,
   "id": "00a4d976",
   "metadata": {},
   "outputs": [
    {
     "data": {
      "text/html": [
       "<div>\n",
       "<style scoped>\n",
       "    .dataframe tbody tr th:only-of-type {\n",
       "        vertical-align: middle;\n",
       "    }\n",
       "\n",
       "    .dataframe tbody tr th {\n",
       "        vertical-align: top;\n",
       "    }\n",
       "\n",
       "    .dataframe thead th {\n",
       "        text-align: right;\n",
       "    }\n",
       "</style>\n",
       "<table border=\"1\" class=\"dataframe\">\n",
       "  <thead>\n",
       "    <tr style=\"text-align: right;\">\n",
       "      <th></th>\n",
       "      <th>people</th>\n",
       "    </tr>\n",
       "  </thead>\n",
       "  <tbody>\n",
       "    <tr>\n",
       "      <th>0</th>\n",
       "      <td>{'firstName': 'Joe', 'lastName': 'Jackson', 'g...</td>\n",
       "    </tr>\n",
       "    <tr>\n",
       "      <th>1</th>\n",
       "      <td>{'firstName': 'James', 'lastName': 'Smith', 'g...</td>\n",
       "    </tr>\n",
       "    <tr>\n",
       "      <th>2</th>\n",
       "      <td>{'firstName': 'Emily', 'lastName': 'Jones', 'g...</td>\n",
       "    </tr>\n",
       "  </tbody>\n",
       "</table>\n",
       "</div>"
      ],
      "text/plain": [
       "                                              people\n",
       "0  {'firstName': 'Joe', 'lastName': 'Jackson', 'g...\n",
       "1  {'firstName': 'James', 'lastName': 'Smith', 'g...\n",
       "2  {'firstName': 'Emily', 'lastName': 'Jones', 'g..."
      ]
     },
     "execution_count": 35,
     "metadata": {},
     "output_type": "execute_result"
    }
   ],
   "source": [
    "pd.read_json('sample.json')"
   ]
  },
  {
   "cell_type": "code",
   "execution_count": 44,
   "id": "51a3d950",
   "metadata": {},
   "outputs": [
    {
     "name": "stdout",
     "output_type": "stream",
     "text": [
      "                                              people\n",
      "0  {'firstName': 'Joe', 'lastName': 'Jackson', 'g...\n",
      "1  {'firstName': 'James', 'lastName': 'Smith', 'g...\n",
      "2  {'firstName': 'Emily', 'lastName': 'Jones', 'g...\n"
     ]
    }
   ],
   "source": [
    "df2 = pd.read_json('sample.json', orient ='index=1')\n",
    "print(df2)"
   ]
  },
  {
   "cell_type": "code",
   "execution_count": 47,
   "id": "4c87a683",
   "metadata": {},
   "outputs": [
    {
     "data": {
      "text/html": [
       "<div>\n",
       "<style scoped>\n",
       "    .dataframe tbody tr th:only-of-type {\n",
       "        vertical-align: middle;\n",
       "    }\n",
       "\n",
       "    .dataframe tbody tr th {\n",
       "        vertical-align: top;\n",
       "    }\n",
       "\n",
       "    .dataframe thead th {\n",
       "        text-align: right;\n",
       "    }\n",
       "</style>\n",
       "<table border=\"1\" class=\"dataframe\">\n",
       "  <thead>\n",
       "    <tr style=\"text-align: right;\">\n",
       "      <th></th>\n",
       "      <th>firstName</th>\n",
       "      <th>lastName</th>\n",
       "      <th>gender</th>\n",
       "      <th>age</th>\n",
       "      <th>number</th>\n",
       "    </tr>\n",
       "  </thead>\n",
       "  <tbody>\n",
       "    <tr>\n",
       "      <th>0</th>\n",
       "      <td>Joe</td>\n",
       "      <td>Jackson</td>\n",
       "      <td>male</td>\n",
       "      <td>28</td>\n",
       "      <td>7349282382</td>\n",
       "    </tr>\n",
       "    <tr>\n",
       "      <th>1</th>\n",
       "      <td>James</td>\n",
       "      <td>Smith</td>\n",
       "      <td>male</td>\n",
       "      <td>32</td>\n",
       "      <td>5678568567</td>\n",
       "    </tr>\n",
       "    <tr>\n",
       "      <th>2</th>\n",
       "      <td>Emily</td>\n",
       "      <td>Jones</td>\n",
       "      <td>female</td>\n",
       "      <td>24</td>\n",
       "      <td>456754675</td>\n",
       "    </tr>\n",
       "  </tbody>\n",
       "</table>\n",
       "</div>"
      ],
      "text/plain": [
       "  firstName lastName  gender  age      number\n",
       "0       Joe  Jackson    male   28  7349282382\n",
       "1     James    Smith    male   32  5678568567\n",
       "2     Emily    Jones  female   24   456754675"
      ]
     },
     "execution_count": 47,
     "metadata": {},
     "output_type": "execute_result"
    }
   ],
   "source": [
    "df = pd.read_json(\"sample.json\")\n",
    "\n",
    "bn=pd.DataFrame(df)['people']\n",
    "\n",
    "pd.json_normalize(bn).head()"
   ]
  },
  {
   "cell_type": "code",
   "execution_count": null,
   "id": "d0a5a66a",
   "metadata": {},
   "outputs": [],
   "source": []
  }
 ],
 "metadata": {
  "kernelspec": {
   "display_name": "Python 3 (ipykernel)",
   "language": "python",
   "name": "python3"
  },
  "language_info": {
   "codemirror_mode": {
    "name": "ipython",
    "version": 3
   },
   "file_extension": ".py",
   "mimetype": "text/x-python",
   "name": "python",
   "nbconvert_exporter": "python",
   "pygments_lexer": "ipython3",
   "version": "3.9.12"
  }
 },
 "nbformat": 4,
 "nbformat_minor": 5
}
